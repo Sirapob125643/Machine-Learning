{
 "cells": [
  {
   "cell_type": "code",
   "execution_count": 17,
   "id": "9bda61ae",
   "metadata": {},
   "outputs": [
    {
     "data": {
      "text/plain": [
       "57.74"
      ]
     },
     "metadata": {},
     "output_type": "display_data"
    }
   ],
   "source": [
    "from sklearn.linear_model import LinearRegression\n",
    "\n",
    "# b=นํ้าหนักของแต่ละตัว   ,Xn=Hi max ของแต่ละตัว\n",
    "X=[[25.31,55],[2.91,52.50],[10.48,30.8],[15.48,60],[19.06,57.6],[16.89,91.1],[3.10,40],[6.77,32.1]]\n",
    "#%Hi ของ line \n",
    "y=[57.74,57.74,57.74,57.74,57.74,57.74,57.74,57.74]\n",
    "\n",
    "model = LinearRegression()\n",
    "model.fit(X,y)\n",
    "predict_Hi = model.predict([[25.31,55]])\n",
    "\n",
    "p = predict_Hi[0]\n",
    "display(p)"
   ]
  },
  {
   "cell_type": "code",
   "execution_count": null,
   "id": "7a2272b4",
   "metadata": {},
   "outputs": [],
   "source": []
  }
 ],
 "metadata": {
  "kernelspec": {
   "display_name": "Python 3 (ipykernel)",
   "language": "python",
   "name": "python3"
  },
  "language_info": {
   "codemirror_mode": {
    "name": "ipython",
    "version": 3
   },
   "file_extension": ".py",
   "mimetype": "text/x-python",
   "name": "python",
   "nbconvert_exporter": "python",
   "pygments_lexer": "ipython3",
   "version": "3.9.15"
  }
 },
 "nbformat": 4,
 "nbformat_minor": 5
}
