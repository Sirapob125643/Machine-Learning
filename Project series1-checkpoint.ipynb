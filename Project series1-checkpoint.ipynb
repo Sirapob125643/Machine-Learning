{
 "cells": [
  {
   "cell_type": "code",
   "execution_count": 1,
   "id": "23324f54",
   "metadata": {},
   "outputs": [],
   "source": [
    "import sys\n",
    "import pandas as pd\n",
    "import numpy as np\n",
    "import matplotlib.pyplot as plt\n",
    "import seaborn as sns  # statics\n",
    "%matplotlib inline\n",
    "%config InlineBackend.figure_format='retina'"
   ]
  },
  {
   "cell_type": "code",
   "execution_count": 2,
   "id": "42d9d6d3",
   "metadata": {
    "scrolled": true
   },
   "outputs": [
    {
     "name": "stdout",
     "output_type": "stream",
     "text": [
      "Python  version:  3.9.15 (main, Nov  4 2022, 16:35:55) [MSC v.1916 64 bit (AMD64)]\n",
      "pandas  version = 1.4.4\n",
      "numpy   version = 1.21.5\n",
      "seaborn version = 0.12.0\n",
      "2022-11-22 18:17:06.862166\n"
     ]
    }
   ],
   "source": [
    "print(f'Python  version:  {sys.version}')\n",
    "print(f'pandas  version = {pd.__version__}')\n",
    "print(f'numpy   version = {np.__version__}')\n",
    "print(f'seaborn version = {sns.__version__}')\n",
    "print(pd.Timestamp.now())"
   ]
  },
  {
   "cell_type": "code",
   "execution_count": 13,
   "id": "0f8b6134",
   "metadata": {
    "scrolled": false
   },
   "outputs": [
    {
     "data": {
      "text/html": [
       "<div>\n",
       "<style scoped>\n",
       "    .dataframe tbody tr th:only-of-type {\n",
       "        vertical-align: middle;\n",
       "    }\n",
       "\n",
       "    .dataframe tbody tr th {\n",
       "        vertical-align: top;\n",
       "    }\n",
       "\n",
       "    .dataframe thead th {\n",
       "        text-align: right;\n",
       "    }\n",
       "</style>\n",
       "<table border=\"1\" class=\"dataframe\">\n",
       "  <thead>\n",
       "    <tr style=\"text-align: right;\">\n",
       "      <th></th>\n",
       "      <th>Tower</th>\n",
       "      <th>Con-vir-Si</th>\n",
       "      <th>Con.vir-Wi</th>\n",
       "      <th>Con-loss-Si</th>\n",
       "      <th>Con-loss-Wi</th>\n",
       "      <th>Con-ten-Si</th>\n",
       "      <th>Con-ten-Wi</th>\n",
       "      <th>Con-tor-Si</th>\n",
       "      <th>Con-tor-Wi</th>\n",
       "      <th>Con-Smax</th>\n",
       "      <th>...</th>\n",
       "      <th>%HIrow</th>\n",
       "      <th>%HItw-con-Wi</th>\n",
       "      <th>%HItw-CA-Wi</th>\n",
       "      <th>%HItw-Ins-Wi</th>\n",
       "      <th>%HItw-SS-Wi</th>\n",
       "      <th>%HItw-Fou-Wi</th>\n",
       "      <th>%HItw-LP-Wi</th>\n",
       "      <th>%HItw-TA-Wi</th>\n",
       "      <th>%HItw-ROW-Wi</th>\n",
       "      <th>%HItower</th>\n",
       "    </tr>\n",
       "  </thead>\n",
       "  <tbody>\n",
       "    <tr>\n",
       "      <th>31</th>\n",
       "      <td>32</td>\n",
       "      <td>4</td>\n",
       "      <td>25</td>\n",
       "      <td>2</td>\n",
       "      <td>25</td>\n",
       "      <td>1</td>\n",
       "      <td>25</td>\n",
       "      <td>3</td>\n",
       "      <td>25</td>\n",
       "      <td>4</td>\n",
       "      <td>...</td>\n",
       "      <td>64.0</td>\n",
       "      <td>25.31</td>\n",
       "      <td>2.91</td>\n",
       "      <td>10.48</td>\n",
       "      <td>15.48</td>\n",
       "      <td>19.06</td>\n",
       "      <td>16.89</td>\n",
       "      <td>3.1</td>\n",
       "      <td>6.77</td>\n",
       "      <td>48.474517</td>\n",
       "    </tr>\n",
       "    <tr>\n",
       "      <th>14</th>\n",
       "      <td>15</td>\n",
       "      <td>1</td>\n",
       "      <td>25</td>\n",
       "      <td>2</td>\n",
       "      <td>25</td>\n",
       "      <td>3</td>\n",
       "      <td>25</td>\n",
       "      <td>0</td>\n",
       "      <td>25</td>\n",
       "      <td>3</td>\n",
       "      <td>...</td>\n",
       "      <td>60.0</td>\n",
       "      <td>25.31</td>\n",
       "      <td>2.91</td>\n",
       "      <td>10.48</td>\n",
       "      <td>15.48</td>\n",
       "      <td>19.06</td>\n",
       "      <td>16.89</td>\n",
       "      <td>3.1</td>\n",
       "      <td>6.77</td>\n",
       "      <td>48.343600</td>\n",
       "    </tr>\n",
       "    <tr>\n",
       "      <th>37</th>\n",
       "      <td>38</td>\n",
       "      <td>0</td>\n",
       "      <td>25</td>\n",
       "      <td>1</td>\n",
       "      <td>25</td>\n",
       "      <td>3</td>\n",
       "      <td>25</td>\n",
       "      <td>1</td>\n",
       "      <td>25</td>\n",
       "      <td>3</td>\n",
       "      <td>...</td>\n",
       "      <td>64.0</td>\n",
       "      <td>25.31</td>\n",
       "      <td>2.91</td>\n",
       "      <td>10.48</td>\n",
       "      <td>15.48</td>\n",
       "      <td>19.06</td>\n",
       "      <td>16.89</td>\n",
       "      <td>3.1</td>\n",
       "      <td>6.77</td>\n",
       "      <td>46.630733</td>\n",
       "    </tr>\n",
       "    <tr>\n",
       "      <th>30</th>\n",
       "      <td>31</td>\n",
       "      <td>3</td>\n",
       "      <td>25</td>\n",
       "      <td>1</td>\n",
       "      <td>25</td>\n",
       "      <td>4</td>\n",
       "      <td>25</td>\n",
       "      <td>1</td>\n",
       "      <td>25</td>\n",
       "      <td>4</td>\n",
       "      <td>...</td>\n",
       "      <td>40.0</td>\n",
       "      <td>25.31</td>\n",
       "      <td>2.91</td>\n",
       "      <td>10.48</td>\n",
       "      <td>15.48</td>\n",
       "      <td>19.06</td>\n",
       "      <td>16.89</td>\n",
       "      <td>3.1</td>\n",
       "      <td>6.77</td>\n",
       "      <td>47.025075</td>\n",
       "    </tr>\n",
       "    <tr>\n",
       "      <th>11</th>\n",
       "      <td>12</td>\n",
       "      <td>2</td>\n",
       "      <td>25</td>\n",
       "      <td>4</td>\n",
       "      <td>25</td>\n",
       "      <td>2</td>\n",
       "      <td>25</td>\n",
       "      <td>1</td>\n",
       "      <td>25</td>\n",
       "      <td>4</td>\n",
       "      <td>...</td>\n",
       "      <td>40.0</td>\n",
       "      <td>25.31</td>\n",
       "      <td>2.91</td>\n",
       "      <td>10.48</td>\n",
       "      <td>15.48</td>\n",
       "      <td>19.06</td>\n",
       "      <td>16.89</td>\n",
       "      <td>3.1</td>\n",
       "      <td>6.77</td>\n",
       "      <td>51.351208</td>\n",
       "    </tr>\n",
       "    <tr>\n",
       "      <th>34</th>\n",
       "      <td>35</td>\n",
       "      <td>4</td>\n",
       "      <td>25</td>\n",
       "      <td>1</td>\n",
       "      <td>25</td>\n",
       "      <td>1</td>\n",
       "      <td>25</td>\n",
       "      <td>1</td>\n",
       "      <td>25</td>\n",
       "      <td>4</td>\n",
       "      <td>...</td>\n",
       "      <td>60.0</td>\n",
       "      <td>25.31</td>\n",
       "      <td>2.91</td>\n",
       "      <td>10.48</td>\n",
       "      <td>15.48</td>\n",
       "      <td>19.06</td>\n",
       "      <td>16.89</td>\n",
       "      <td>3.1</td>\n",
       "      <td>6.77</td>\n",
       "      <td>44.053708</td>\n",
       "    </tr>\n",
       "    <tr>\n",
       "      <th>20</th>\n",
       "      <td>21</td>\n",
       "      <td>0</td>\n",
       "      <td>25</td>\n",
       "      <td>1</td>\n",
       "      <td>25</td>\n",
       "      <td>1</td>\n",
       "      <td>25</td>\n",
       "      <td>0</td>\n",
       "      <td>25</td>\n",
       "      <td>1</td>\n",
       "      <td>...</td>\n",
       "      <td>52.0</td>\n",
       "      <td>25.31</td>\n",
       "      <td>2.91</td>\n",
       "      <td>10.48</td>\n",
       "      <td>15.48</td>\n",
       "      <td>19.06</td>\n",
       "      <td>16.89</td>\n",
       "      <td>3.1</td>\n",
       "      <td>6.77</td>\n",
       "      <td>46.109500</td>\n",
       "    </tr>\n",
       "    <tr>\n",
       "      <th>5</th>\n",
       "      <td>6</td>\n",
       "      <td>2</td>\n",
       "      <td>25</td>\n",
       "      <td>1</td>\n",
       "      <td>25</td>\n",
       "      <td>3</td>\n",
       "      <td>25</td>\n",
       "      <td>1</td>\n",
       "      <td>25</td>\n",
       "      <td>3</td>\n",
       "      <td>...</td>\n",
       "      <td>60.0</td>\n",
       "      <td>25.31</td>\n",
       "      <td>2.91</td>\n",
       "      <td>10.48</td>\n",
       "      <td>15.48</td>\n",
       "      <td>19.06</td>\n",
       "      <td>16.89</td>\n",
       "      <td>3.1</td>\n",
       "      <td>6.77</td>\n",
       "      <td>52.046833</td>\n",
       "    </tr>\n",
       "    <tr>\n",
       "      <th>44</th>\n",
       "      <td>45</td>\n",
       "      <td>1</td>\n",
       "      <td>25</td>\n",
       "      <td>0</td>\n",
       "      <td>25</td>\n",
       "      <td>3</td>\n",
       "      <td>25</td>\n",
       "      <td>3</td>\n",
       "      <td>25</td>\n",
       "      <td>3</td>\n",
       "      <td>...</td>\n",
       "      <td>60.0</td>\n",
       "      <td>25.31</td>\n",
       "      <td>2.91</td>\n",
       "      <td>10.48</td>\n",
       "      <td>15.48</td>\n",
       "      <td>19.06</td>\n",
       "      <td>16.89</td>\n",
       "      <td>3.1</td>\n",
       "      <td>6.77</td>\n",
       "      <td>51.424250</td>\n",
       "    </tr>\n",
       "    <tr>\n",
       "      <th>12</th>\n",
       "      <td>13</td>\n",
       "      <td>1</td>\n",
       "      <td>25</td>\n",
       "      <td>3</td>\n",
       "      <td>25</td>\n",
       "      <td>5</td>\n",
       "      <td>25</td>\n",
       "      <td>2</td>\n",
       "      <td>25</td>\n",
       "      <td>5</td>\n",
       "      <td>...</td>\n",
       "      <td>52.0</td>\n",
       "      <td>25.31</td>\n",
       "      <td>2.91</td>\n",
       "      <td>10.48</td>\n",
       "      <td>15.48</td>\n",
       "      <td>19.06</td>\n",
       "      <td>16.89</td>\n",
       "      <td>3.1</td>\n",
       "      <td>6.77</td>\n",
       "      <td>54.384400</td>\n",
       "    </tr>\n",
       "    <tr>\n",
       "      <th>43</th>\n",
       "      <td>44</td>\n",
       "      <td>3</td>\n",
       "      <td>25</td>\n",
       "      <td>1</td>\n",
       "      <td>25</td>\n",
       "      <td>2</td>\n",
       "      <td>25</td>\n",
       "      <td>1</td>\n",
       "      <td>25</td>\n",
       "      <td>3</td>\n",
       "      <td>...</td>\n",
       "      <td>60.0</td>\n",
       "      <td>25.31</td>\n",
       "      <td>2.91</td>\n",
       "      <td>10.48</td>\n",
       "      <td>15.48</td>\n",
       "      <td>19.06</td>\n",
       "      <td>16.89</td>\n",
       "      <td>3.1</td>\n",
       "      <td>6.77</td>\n",
       "      <td>51.287000</td>\n",
       "    </tr>\n",
       "    <tr>\n",
       "      <th>8</th>\n",
       "      <td>9</td>\n",
       "      <td>2</td>\n",
       "      <td>25</td>\n",
       "      <td>1</td>\n",
       "      <td>25</td>\n",
       "      <td>0</td>\n",
       "      <td>25</td>\n",
       "      <td>2</td>\n",
       "      <td>25</td>\n",
       "      <td>2</td>\n",
       "      <td>...</td>\n",
       "      <td>60.0</td>\n",
       "      <td>25.31</td>\n",
       "      <td>2.91</td>\n",
       "      <td>10.48</td>\n",
       "      <td>15.48</td>\n",
       "      <td>19.06</td>\n",
       "      <td>16.89</td>\n",
       "      <td>3.1</td>\n",
       "      <td>6.77</td>\n",
       "      <td>55.369083</td>\n",
       "    </tr>\n",
       "    <tr>\n",
       "      <th>32</th>\n",
       "      <td>33</td>\n",
       "      <td>0</td>\n",
       "      <td>25</td>\n",
       "      <td>3</td>\n",
       "      <td>25</td>\n",
       "      <td>3</td>\n",
       "      <td>25</td>\n",
       "      <td>1</td>\n",
       "      <td>25</td>\n",
       "      <td>3</td>\n",
       "      <td>...</td>\n",
       "      <td>52.0</td>\n",
       "      <td>25.31</td>\n",
       "      <td>2.91</td>\n",
       "      <td>10.48</td>\n",
       "      <td>15.48</td>\n",
       "      <td>19.06</td>\n",
       "      <td>16.89</td>\n",
       "      <td>3.1</td>\n",
       "      <td>6.77</td>\n",
       "      <td>48.036667</td>\n",
       "    </tr>\n",
       "    <tr>\n",
       "      <th>46</th>\n",
       "      <td>47</td>\n",
       "      <td>2</td>\n",
       "      <td>25</td>\n",
       "      <td>1</td>\n",
       "      <td>25</td>\n",
       "      <td>5</td>\n",
       "      <td>25</td>\n",
       "      <td>1</td>\n",
       "      <td>25</td>\n",
       "      <td>5</td>\n",
       "      <td>...</td>\n",
       "      <td>64.0</td>\n",
       "      <td>25.31</td>\n",
       "      <td>2.91</td>\n",
       "      <td>10.48</td>\n",
       "      <td>15.48</td>\n",
       "      <td>19.06</td>\n",
       "      <td>16.89</td>\n",
       "      <td>3.1</td>\n",
       "      <td>6.77</td>\n",
       "      <td>45.119833</td>\n",
       "    </tr>\n",
       "    <tr>\n",
       "      <th>18</th>\n",
       "      <td>19</td>\n",
       "      <td>2</td>\n",
       "      <td>25</td>\n",
       "      <td>2</td>\n",
       "      <td>25</td>\n",
       "      <td>3</td>\n",
       "      <td>25</td>\n",
       "      <td>0</td>\n",
       "      <td>25</td>\n",
       "      <td>3</td>\n",
       "      <td>...</td>\n",
       "      <td>40.0</td>\n",
       "      <td>25.31</td>\n",
       "      <td>2.91</td>\n",
       "      <td>10.48</td>\n",
       "      <td>15.48</td>\n",
       "      <td>19.06</td>\n",
       "      <td>16.89</td>\n",
       "      <td>3.1</td>\n",
       "      <td>6.77</td>\n",
       "      <td>52.832417</td>\n",
       "    </tr>\n",
       "    <tr>\n",
       "      <th>48</th>\n",
       "      <td>49</td>\n",
       "      <td>2</td>\n",
       "      <td>25</td>\n",
       "      <td>5</td>\n",
       "      <td>25</td>\n",
       "      <td>1</td>\n",
       "      <td>25</td>\n",
       "      <td>1</td>\n",
       "      <td>25</td>\n",
       "      <td>5</td>\n",
       "      <td>...</td>\n",
       "      <td>40.0</td>\n",
       "      <td>25.31</td>\n",
       "      <td>2.91</td>\n",
       "      <td>10.48</td>\n",
       "      <td>15.48</td>\n",
       "      <td>19.06</td>\n",
       "      <td>16.89</td>\n",
       "      <td>3.1</td>\n",
       "      <td>6.77</td>\n",
       "      <td>46.740200</td>\n",
       "    </tr>\n",
       "    <tr>\n",
       "      <th>49</th>\n",
       "      <td>50</td>\n",
       "      <td>0</td>\n",
       "      <td>25</td>\n",
       "      <td>1</td>\n",
       "      <td>25</td>\n",
       "      <td>2</td>\n",
       "      <td>25</td>\n",
       "      <td>2</td>\n",
       "      <td>25</td>\n",
       "      <td>2</td>\n",
       "      <td>...</td>\n",
       "      <td>64.0</td>\n",
       "      <td>25.31</td>\n",
       "      <td>2.91</td>\n",
       "      <td>10.48</td>\n",
       "      <td>15.48</td>\n",
       "      <td>19.06</td>\n",
       "      <td>16.89</td>\n",
       "      <td>3.1</td>\n",
       "      <td>6.77</td>\n",
       "      <td>49.090567</td>\n",
       "    </tr>\n",
       "    <tr>\n",
       "      <th>6</th>\n",
       "      <td>7</td>\n",
       "      <td>0</td>\n",
       "      <td>25</td>\n",
       "      <td>1</td>\n",
       "      <td>25</td>\n",
       "      <td>5</td>\n",
       "      <td>25</td>\n",
       "      <td>1</td>\n",
       "      <td>25</td>\n",
       "      <td>5</td>\n",
       "      <td>...</td>\n",
       "      <td>60.0</td>\n",
       "      <td>25.31</td>\n",
       "      <td>2.91</td>\n",
       "      <td>10.48</td>\n",
       "      <td>15.48</td>\n",
       "      <td>19.06</td>\n",
       "      <td>16.89</td>\n",
       "      <td>3.1</td>\n",
       "      <td>6.77</td>\n",
       "      <td>48.091650</td>\n",
       "    </tr>\n",
       "    <tr>\n",
       "      <th>15</th>\n",
       "      <td>16</td>\n",
       "      <td>1</td>\n",
       "      <td>25</td>\n",
       "      <td>1</td>\n",
       "      <td>25</td>\n",
       "      <td>4</td>\n",
       "      <td>25</td>\n",
       "      <td>0</td>\n",
       "      <td>25</td>\n",
       "      <td>4</td>\n",
       "      <td>...</td>\n",
       "      <td>60.0</td>\n",
       "      <td>25.31</td>\n",
       "      <td>2.91</td>\n",
       "      <td>10.48</td>\n",
       "      <td>15.48</td>\n",
       "      <td>19.06</td>\n",
       "      <td>16.89</td>\n",
       "      <td>3.1</td>\n",
       "      <td>6.77</td>\n",
       "      <td>43.477000</td>\n",
       "    </tr>\n",
       "    <tr>\n",
       "      <th>45</th>\n",
       "      <td>46</td>\n",
       "      <td>2</td>\n",
       "      <td>25</td>\n",
       "      <td>2</td>\n",
       "      <td>25</td>\n",
       "      <td>1</td>\n",
       "      <td>25</td>\n",
       "      <td>0</td>\n",
       "      <td>25</td>\n",
       "      <td>2</td>\n",
       "      <td>...</td>\n",
       "      <td>60.0</td>\n",
       "      <td>25.31</td>\n",
       "      <td>2.91</td>\n",
       "      <td>10.48</td>\n",
       "      <td>15.48</td>\n",
       "      <td>19.06</td>\n",
       "      <td>16.89</td>\n",
       "      <td>3.1</td>\n",
       "      <td>6.77</td>\n",
       "      <td>47.653150</td>\n",
       "    </tr>\n",
       "    <tr>\n",
       "      <th>26</th>\n",
       "      <td>27</td>\n",
       "      <td>1</td>\n",
       "      <td>25</td>\n",
       "      <td>2</td>\n",
       "      <td>25</td>\n",
       "      <td>1</td>\n",
       "      <td>25</td>\n",
       "      <td>1</td>\n",
       "      <td>25</td>\n",
       "      <td>2</td>\n",
       "      <td>...</td>\n",
       "      <td>40.0</td>\n",
       "      <td>25.31</td>\n",
       "      <td>2.91</td>\n",
       "      <td>10.48</td>\n",
       "      <td>15.48</td>\n",
       "      <td>19.06</td>\n",
       "      <td>16.89</td>\n",
       "      <td>3.1</td>\n",
       "      <td>6.77</td>\n",
       "      <td>46.614250</td>\n",
       "    </tr>\n",
       "    <tr>\n",
       "      <th>41</th>\n",
       "      <td>42</td>\n",
       "      <td>1</td>\n",
       "      <td>25</td>\n",
       "      <td>1</td>\n",
       "      <td>25</td>\n",
       "      <td>3</td>\n",
       "      <td>25</td>\n",
       "      <td>1</td>\n",
       "      <td>25</td>\n",
       "      <td>3</td>\n",
       "      <td>...</td>\n",
       "      <td>64.0</td>\n",
       "      <td>25.31</td>\n",
       "      <td>2.91</td>\n",
       "      <td>10.48</td>\n",
       "      <td>15.48</td>\n",
       "      <td>19.06</td>\n",
       "      <td>16.89</td>\n",
       "      <td>3.1</td>\n",
       "      <td>6.77</td>\n",
       "      <td>52.493000</td>\n",
       "    </tr>\n",
       "    <tr>\n",
       "      <th>10</th>\n",
       "      <td>11</td>\n",
       "      <td>0</td>\n",
       "      <td>25</td>\n",
       "      <td>1</td>\n",
       "      <td>25</td>\n",
       "      <td>3</td>\n",
       "      <td>25</td>\n",
       "      <td>3</td>\n",
       "      <td>25</td>\n",
       "      <td>3</td>\n",
       "      <td>...</td>\n",
       "      <td>52.0</td>\n",
       "      <td>25.31</td>\n",
       "      <td>2.91</td>\n",
       "      <td>10.48</td>\n",
       "      <td>15.48</td>\n",
       "      <td>19.06</td>\n",
       "      <td>16.89</td>\n",
       "      <td>3.1</td>\n",
       "      <td>6.77</td>\n",
       "      <td>44.176767</td>\n",
       "    </tr>\n",
       "    <tr>\n",
       "      <th>25</th>\n",
       "      <td>26</td>\n",
       "      <td>0</td>\n",
       "      <td>25</td>\n",
       "      <td>4</td>\n",
       "      <td>25</td>\n",
       "      <td>2</td>\n",
       "      <td>25</td>\n",
       "      <td>0</td>\n",
       "      <td>25</td>\n",
       "      <td>4</td>\n",
       "      <td>...</td>\n",
       "      <td>52.0</td>\n",
       "      <td>25.31</td>\n",
       "      <td>2.91</td>\n",
       "      <td>10.48</td>\n",
       "      <td>15.48</td>\n",
       "      <td>19.06</td>\n",
       "      <td>16.89</td>\n",
       "      <td>3.1</td>\n",
       "      <td>6.77</td>\n",
       "      <td>40.226850</td>\n",
       "    </tr>\n",
       "    <tr>\n",
       "      <th>7</th>\n",
       "      <td>8</td>\n",
       "      <td>1</td>\n",
       "      <td>25</td>\n",
       "      <td>1</td>\n",
       "      <td>25</td>\n",
       "      <td>2</td>\n",
       "      <td>25</td>\n",
       "      <td>1</td>\n",
       "      <td>25</td>\n",
       "      <td>2</td>\n",
       "      <td>...</td>\n",
       "      <td>52.0</td>\n",
       "      <td>25.31</td>\n",
       "      <td>2.91</td>\n",
       "      <td>10.48</td>\n",
       "      <td>15.48</td>\n",
       "      <td>19.06</td>\n",
       "      <td>16.89</td>\n",
       "      <td>3.1</td>\n",
       "      <td>6.77</td>\n",
       "      <td>52.758350</td>\n",
       "    </tr>\n",
       "    <tr>\n",
       "      <th>29</th>\n",
       "      <td>30</td>\n",
       "      <td>1</td>\n",
       "      <td>25</td>\n",
       "      <td>3</td>\n",
       "      <td>25</td>\n",
       "      <td>0</td>\n",
       "      <td>25</td>\n",
       "      <td>3</td>\n",
       "      <td>25</td>\n",
       "      <td>3</td>\n",
       "      <td>...</td>\n",
       "      <td>60.0</td>\n",
       "      <td>25.31</td>\n",
       "      <td>2.91</td>\n",
       "      <td>10.48</td>\n",
       "      <td>15.48</td>\n",
       "      <td>19.06</td>\n",
       "      <td>16.89</td>\n",
       "      <td>3.1</td>\n",
       "      <td>6.77</td>\n",
       "      <td>55.064967</td>\n",
       "    </tr>\n",
       "    <tr>\n",
       "      <th>38</th>\n",
       "      <td>39</td>\n",
       "      <td>1</td>\n",
       "      <td>25</td>\n",
       "      <td>2</td>\n",
       "      <td>25</td>\n",
       "      <td>5</td>\n",
       "      <td>25</td>\n",
       "      <td>1</td>\n",
       "      <td>25</td>\n",
       "      <td>5</td>\n",
       "      <td>...</td>\n",
       "      <td>55.0</td>\n",
       "      <td>25.31</td>\n",
       "      <td>2.91</td>\n",
       "      <td>10.48</td>\n",
       "      <td>15.48</td>\n",
       "      <td>19.06</td>\n",
       "      <td>16.89</td>\n",
       "      <td>3.1</td>\n",
       "      <td>6.77</td>\n",
       "      <td>49.267500</td>\n",
       "    </tr>\n",
       "    <tr>\n",
       "      <th>42</th>\n",
       "      <td>43</td>\n",
       "      <td>0</td>\n",
       "      <td>25</td>\n",
       "      <td>1</td>\n",
       "      <td>25</td>\n",
       "      <td>2</td>\n",
       "      <td>25</td>\n",
       "      <td>2</td>\n",
       "      <td>25</td>\n",
       "      <td>2</td>\n",
       "      <td>...</td>\n",
       "      <td>60.0</td>\n",
       "      <td>25.31</td>\n",
       "      <td>2.91</td>\n",
       "      <td>10.48</td>\n",
       "      <td>15.48</td>\n",
       "      <td>19.06</td>\n",
       "      <td>16.89</td>\n",
       "      <td>3.1</td>\n",
       "      <td>6.77</td>\n",
       "      <td>51.801567</td>\n",
       "    </tr>\n",
       "    <tr>\n",
       "      <th>0</th>\n",
       "      <td>1</td>\n",
       "      <td>1</td>\n",
       "      <td>25</td>\n",
       "      <td>2</td>\n",
       "      <td>25</td>\n",
       "      <td>1</td>\n",
       "      <td>25</td>\n",
       "      <td>0</td>\n",
       "      <td>25</td>\n",
       "      <td>2</td>\n",
       "      <td>...</td>\n",
       "      <td>60.0</td>\n",
       "      <td>25.31</td>\n",
       "      <td>2.91</td>\n",
       "      <td>10.48</td>\n",
       "      <td>15.48</td>\n",
       "      <td>19.06</td>\n",
       "      <td>16.89</td>\n",
       "      <td>3.1</td>\n",
       "      <td>6.77</td>\n",
       "      <td>47.180500</td>\n",
       "    </tr>\n",
       "    <tr>\n",
       "      <th>35</th>\n",
       "      <td>36</td>\n",
       "      <td>2</td>\n",
       "      <td>25</td>\n",
       "      <td>3</td>\n",
       "      <td>25</td>\n",
       "      <td>1</td>\n",
       "      <td>25</td>\n",
       "      <td>5</td>\n",
       "      <td>25</td>\n",
       "      <td>5</td>\n",
       "      <td>...</td>\n",
       "      <td>70.0</td>\n",
       "      <td>25.31</td>\n",
       "      <td>2.91</td>\n",
       "      <td>10.48</td>\n",
       "      <td>15.48</td>\n",
       "      <td>19.06</td>\n",
       "      <td>16.89</td>\n",
       "      <td>3.1</td>\n",
       "      <td>6.77</td>\n",
       "      <td>52.348558</td>\n",
       "    </tr>\n",
       "    <tr>\n",
       "      <th>19</th>\n",
       "      <td>20</td>\n",
       "      <td>2</td>\n",
       "      <td>25</td>\n",
       "      <td>4</td>\n",
       "      <td>25</td>\n",
       "      <td>3</td>\n",
       "      <td>25</td>\n",
       "      <td>1</td>\n",
       "      <td>25</td>\n",
       "      <td>4</td>\n",
       "      <td>...</td>\n",
       "      <td>40.0</td>\n",
       "      <td>25.31</td>\n",
       "      <td>2.91</td>\n",
       "      <td>10.48</td>\n",
       "      <td>15.48</td>\n",
       "      <td>19.06</td>\n",
       "      <td>16.89</td>\n",
       "      <td>3.1</td>\n",
       "      <td>6.77</td>\n",
       "      <td>53.066700</td>\n",
       "    </tr>\n",
       "    <tr>\n",
       "      <th>47</th>\n",
       "      <td>48</td>\n",
       "      <td>3</td>\n",
       "      <td>25</td>\n",
       "      <td>1</td>\n",
       "      <td>25</td>\n",
       "      <td>3</td>\n",
       "      <td>25</td>\n",
       "      <td>0</td>\n",
       "      <td>25</td>\n",
       "      <td>3</td>\n",
       "      <td>...</td>\n",
       "      <td>40.0</td>\n",
       "      <td>25.31</td>\n",
       "      <td>2.91</td>\n",
       "      <td>10.48</td>\n",
       "      <td>15.48</td>\n",
       "      <td>19.06</td>\n",
       "      <td>16.89</td>\n",
       "      <td>3.1</td>\n",
       "      <td>6.77</td>\n",
       "      <td>50.767342</td>\n",
       "    </tr>\n",
       "    <tr>\n",
       "      <th>2</th>\n",
       "      <td>3</td>\n",
       "      <td>1</td>\n",
       "      <td>25</td>\n",
       "      <td>1</td>\n",
       "      <td>25</td>\n",
       "      <td>2</td>\n",
       "      <td>25</td>\n",
       "      <td>3</td>\n",
       "      <td>25</td>\n",
       "      <td>3</td>\n",
       "      <td>...</td>\n",
       "      <td>40.0</td>\n",
       "      <td>25.31</td>\n",
       "      <td>2.91</td>\n",
       "      <td>10.48</td>\n",
       "      <td>15.48</td>\n",
       "      <td>19.06</td>\n",
       "      <td>16.89</td>\n",
       "      <td>3.1</td>\n",
       "      <td>6.77</td>\n",
       "      <td>43.081167</td>\n",
       "    </tr>\n",
       "    <tr>\n",
       "      <th>22</th>\n",
       "      <td>23</td>\n",
       "      <td>0</td>\n",
       "      <td>25</td>\n",
       "      <td>1</td>\n",
       "      <td>25</td>\n",
       "      <td>2</td>\n",
       "      <td>25</td>\n",
       "      <td>2</td>\n",
       "      <td>25</td>\n",
       "      <td>2</td>\n",
       "      <td>...</td>\n",
       "      <td>60.0</td>\n",
       "      <td>25.31</td>\n",
       "      <td>2.91</td>\n",
       "      <td>10.48</td>\n",
       "      <td>15.48</td>\n",
       "      <td>19.06</td>\n",
       "      <td>16.89</td>\n",
       "      <td>3.1</td>\n",
       "      <td>6.77</td>\n",
       "      <td>53.927850</td>\n",
       "    </tr>\n",
       "    <tr>\n",
       "      <th>1</th>\n",
       "      <td>2</td>\n",
       "      <td>3</td>\n",
       "      <td>25</td>\n",
       "      <td>3</td>\n",
       "      <td>25</td>\n",
       "      <td>1</td>\n",
       "      <td>25</td>\n",
       "      <td>0</td>\n",
       "      <td>25</td>\n",
       "      <td>3</td>\n",
       "      <td>...</td>\n",
       "      <td>40.0</td>\n",
       "      <td>25.31</td>\n",
       "      <td>2.91</td>\n",
       "      <td>10.48</td>\n",
       "      <td>15.48</td>\n",
       "      <td>19.06</td>\n",
       "      <td>16.89</td>\n",
       "      <td>3.1</td>\n",
       "      <td>6.77</td>\n",
       "      <td>35.599867</td>\n",
       "    </tr>\n",
       "    <tr>\n",
       "      <th>28</th>\n",
       "      <td>29</td>\n",
       "      <td>1</td>\n",
       "      <td>25</td>\n",
       "      <td>4</td>\n",
       "      <td>25</td>\n",
       "      <td>5</td>\n",
       "      <td>25</td>\n",
       "      <td>2</td>\n",
       "      <td>25</td>\n",
       "      <td>5</td>\n",
       "      <td>...</td>\n",
       "      <td>60.0</td>\n",
       "      <td>25.31</td>\n",
       "      <td>2.91</td>\n",
       "      <td>10.48</td>\n",
       "      <td>15.48</td>\n",
       "      <td>19.06</td>\n",
       "      <td>16.89</td>\n",
       "      <td>3.1</td>\n",
       "      <td>6.77</td>\n",
       "      <td>45.470542</td>\n",
       "    </tr>\n",
       "    <tr>\n",
       "      <th>3</th>\n",
       "      <td>4</td>\n",
       "      <td>0</td>\n",
       "      <td>25</td>\n",
       "      <td>2</td>\n",
       "      <td>25</td>\n",
       "      <td>1</td>\n",
       "      <td>25</td>\n",
       "      <td>1</td>\n",
       "      <td>25</td>\n",
       "      <td>2</td>\n",
       "      <td>...</td>\n",
       "      <td>60.0</td>\n",
       "      <td>25.31</td>\n",
       "      <td>2.91</td>\n",
       "      <td>10.48</td>\n",
       "      <td>15.48</td>\n",
       "      <td>19.06</td>\n",
       "      <td>16.89</td>\n",
       "      <td>3.1</td>\n",
       "      <td>6.77</td>\n",
       "      <td>47.750000</td>\n",
       "    </tr>\n",
       "    <tr>\n",
       "      <th>39</th>\n",
       "      <td>40</td>\n",
       "      <td>1</td>\n",
       "      <td>25</td>\n",
       "      <td>5</td>\n",
       "      <td>25</td>\n",
       "      <td>1</td>\n",
       "      <td>25</td>\n",
       "      <td>0</td>\n",
       "      <td>25</td>\n",
       "      <td>5</td>\n",
       "      <td>...</td>\n",
       "      <td>68.0</td>\n",
       "      <td>25.31</td>\n",
       "      <td>2.91</td>\n",
       "      <td>10.48</td>\n",
       "      <td>15.48</td>\n",
       "      <td>19.06</td>\n",
       "      <td>16.89</td>\n",
       "      <td>3.1</td>\n",
       "      <td>6.77</td>\n",
       "      <td>47.279233</td>\n",
       "    </tr>\n",
       "    <tr>\n",
       "      <th>21</th>\n",
       "      <td>22</td>\n",
       "      <td>2</td>\n",
       "      <td>25</td>\n",
       "      <td>1</td>\n",
       "      <td>25</td>\n",
       "      <td>1</td>\n",
       "      <td>25</td>\n",
       "      <td>0</td>\n",
       "      <td>25</td>\n",
       "      <td>2</td>\n",
       "      <td>...</td>\n",
       "      <td>68.0</td>\n",
       "      <td>25.31</td>\n",
       "      <td>2.91</td>\n",
       "      <td>10.48</td>\n",
       "      <td>15.48</td>\n",
       "      <td>19.06</td>\n",
       "      <td>16.89</td>\n",
       "      <td>3.1</td>\n",
       "      <td>6.77</td>\n",
       "      <td>51.372267</td>\n",
       "    </tr>\n",
       "    <tr>\n",
       "      <th>13</th>\n",
       "      <td>14</td>\n",
       "      <td>2</td>\n",
       "      <td>25</td>\n",
       "      <td>0</td>\n",
       "      <td>25</td>\n",
       "      <td>3</td>\n",
       "      <td>25</td>\n",
       "      <td>2</td>\n",
       "      <td>25</td>\n",
       "      <td>3</td>\n",
       "      <td>...</td>\n",
       "      <td>60.0</td>\n",
       "      <td>25.31</td>\n",
       "      <td>2.91</td>\n",
       "      <td>10.48</td>\n",
       "      <td>15.48</td>\n",
       "      <td>19.06</td>\n",
       "      <td>16.89</td>\n",
       "      <td>3.1</td>\n",
       "      <td>6.77</td>\n",
       "      <td>54.594717</td>\n",
       "    </tr>\n",
       "    <tr>\n",
       "      <th>36</th>\n",
       "      <td>37</td>\n",
       "      <td>2</td>\n",
       "      <td>25</td>\n",
       "      <td>1</td>\n",
       "      <td>25</td>\n",
       "      <td>0</td>\n",
       "      <td>25</td>\n",
       "      <td>2</td>\n",
       "      <td>25</td>\n",
       "      <td>2</td>\n",
       "      <td>...</td>\n",
       "      <td>60.0</td>\n",
       "      <td>25.31</td>\n",
       "      <td>2.91</td>\n",
       "      <td>10.48</td>\n",
       "      <td>15.48</td>\n",
       "      <td>19.06</td>\n",
       "      <td>16.89</td>\n",
       "      <td>3.1</td>\n",
       "      <td>6.77</td>\n",
       "      <td>52.710250</td>\n",
       "    </tr>\n",
       "    <tr>\n",
       "      <th>27</th>\n",
       "      <td>28</td>\n",
       "      <td>2</td>\n",
       "      <td>25</td>\n",
       "      <td>0</td>\n",
       "      <td>25</td>\n",
       "      <td>3</td>\n",
       "      <td>25</td>\n",
       "      <td>2</td>\n",
       "      <td>25</td>\n",
       "      <td>3</td>\n",
       "      <td>...</td>\n",
       "      <td>60.0</td>\n",
       "      <td>25.31</td>\n",
       "      <td>2.91</td>\n",
       "      <td>10.48</td>\n",
       "      <td>15.48</td>\n",
       "      <td>19.06</td>\n",
       "      <td>16.89</td>\n",
       "      <td>3.1</td>\n",
       "      <td>6.77</td>\n",
       "      <td>53.750833</td>\n",
       "    </tr>\n",
       "    <tr>\n",
       "      <th>16</th>\n",
       "      <td>17</td>\n",
       "      <td>1</td>\n",
       "      <td>25</td>\n",
       "      <td>0</td>\n",
       "      <td>25</td>\n",
       "      <td>1</td>\n",
       "      <td>25</td>\n",
       "      <td>2</td>\n",
       "      <td>25</td>\n",
       "      <td>2</td>\n",
       "      <td>...</td>\n",
       "      <td>60.0</td>\n",
       "      <td>25.31</td>\n",
       "      <td>2.91</td>\n",
       "      <td>10.48</td>\n",
       "      <td>15.48</td>\n",
       "      <td>19.06</td>\n",
       "      <td>16.89</td>\n",
       "      <td>3.1</td>\n",
       "      <td>6.77</td>\n",
       "      <td>47.040767</td>\n",
       "    </tr>\n",
       "    <tr>\n",
       "      <th>23</th>\n",
       "      <td>24</td>\n",
       "      <td>2</td>\n",
       "      <td>25</td>\n",
       "      <td>1</td>\n",
       "      <td>25</td>\n",
       "      <td>4</td>\n",
       "      <td>25</td>\n",
       "      <td>2</td>\n",
       "      <td>25</td>\n",
       "      <td>4</td>\n",
       "      <td>...</td>\n",
       "      <td>55.0</td>\n",
       "      <td>25.31</td>\n",
       "      <td>2.91</td>\n",
       "      <td>10.48</td>\n",
       "      <td>15.48</td>\n",
       "      <td>19.06</td>\n",
       "      <td>16.89</td>\n",
       "      <td>3.1</td>\n",
       "      <td>6.77</td>\n",
       "      <td>50.456875</td>\n",
       "    </tr>\n",
       "    <tr>\n",
       "      <th>4</th>\n",
       "      <td>5</td>\n",
       "      <td>1</td>\n",
       "      <td>25</td>\n",
       "      <td>0</td>\n",
       "      <td>25</td>\n",
       "      <td>0</td>\n",
       "      <td>25</td>\n",
       "      <td>2</td>\n",
       "      <td>25</td>\n",
       "      <td>2</td>\n",
       "      <td>...</td>\n",
       "      <td>55.0</td>\n",
       "      <td>25.31</td>\n",
       "      <td>2.91</td>\n",
       "      <td>10.48</td>\n",
       "      <td>15.48</td>\n",
       "      <td>19.06</td>\n",
       "      <td>16.89</td>\n",
       "      <td>3.1</td>\n",
       "      <td>6.77</td>\n",
       "      <td>46.568700</td>\n",
       "    </tr>\n",
       "    <tr>\n",
       "      <th>24</th>\n",
       "      <td>25</td>\n",
       "      <td>2</td>\n",
       "      <td>25</td>\n",
       "      <td>1</td>\n",
       "      <td>25</td>\n",
       "      <td>1</td>\n",
       "      <td>25</td>\n",
       "      <td>1</td>\n",
       "      <td>25</td>\n",
       "      <td>2</td>\n",
       "      <td>...</td>\n",
       "      <td>52.0</td>\n",
       "      <td>25.31</td>\n",
       "      <td>2.91</td>\n",
       "      <td>10.48</td>\n",
       "      <td>15.48</td>\n",
       "      <td>19.06</td>\n",
       "      <td>16.89</td>\n",
       "      <td>3.1</td>\n",
       "      <td>6.77</td>\n",
       "      <td>49.190283</td>\n",
       "    </tr>\n",
       "    <tr>\n",
       "      <th>33</th>\n",
       "      <td>34</td>\n",
       "      <td>2</td>\n",
       "      <td>25</td>\n",
       "      <td>1</td>\n",
       "      <td>25</td>\n",
       "      <td>5</td>\n",
       "      <td>25</td>\n",
       "      <td>1</td>\n",
       "      <td>25</td>\n",
       "      <td>5</td>\n",
       "      <td>...</td>\n",
       "      <td>40.0</td>\n",
       "      <td>25.31</td>\n",
       "      <td>2.91</td>\n",
       "      <td>10.48</td>\n",
       "      <td>15.48</td>\n",
       "      <td>19.06</td>\n",
       "      <td>16.89</td>\n",
       "      <td>3.1</td>\n",
       "      <td>6.77</td>\n",
       "      <td>42.472900</td>\n",
       "    </tr>\n",
       "    <tr>\n",
       "      <th>9</th>\n",
       "      <td>10</td>\n",
       "      <td>2</td>\n",
       "      <td>25</td>\n",
       "      <td>2</td>\n",
       "      <td>25</td>\n",
       "      <td>1</td>\n",
       "      <td>25</td>\n",
       "      <td>0</td>\n",
       "      <td>25</td>\n",
       "      <td>2</td>\n",
       "      <td>...</td>\n",
       "      <td>64.0</td>\n",
       "      <td>25.31</td>\n",
       "      <td>2.91</td>\n",
       "      <td>10.48</td>\n",
       "      <td>15.48</td>\n",
       "      <td>19.06</td>\n",
       "      <td>16.89</td>\n",
       "      <td>3.1</td>\n",
       "      <td>6.77</td>\n",
       "      <td>51.749350</td>\n",
       "    </tr>\n",
       "    <tr>\n",
       "      <th>17</th>\n",
       "      <td>18</td>\n",
       "      <td>3</td>\n",
       "      <td>25</td>\n",
       "      <td>1</td>\n",
       "      <td>25</td>\n",
       "      <td>0</td>\n",
       "      <td>25</td>\n",
       "      <td>1</td>\n",
       "      <td>25</td>\n",
       "      <td>3</td>\n",
       "      <td>...</td>\n",
       "      <td>40.0</td>\n",
       "      <td>25.31</td>\n",
       "      <td>2.91</td>\n",
       "      <td>10.48</td>\n",
       "      <td>15.48</td>\n",
       "      <td>19.06</td>\n",
       "      <td>16.89</td>\n",
       "      <td>3.1</td>\n",
       "      <td>6.77</td>\n",
       "      <td>44.858300</td>\n",
       "    </tr>\n",
       "    <tr>\n",
       "      <th>40</th>\n",
       "      <td>41</td>\n",
       "      <td>2</td>\n",
       "      <td>25</td>\n",
       "      <td>0</td>\n",
       "      <td>25</td>\n",
       "      <td>0</td>\n",
       "      <td>25</td>\n",
       "      <td>3</td>\n",
       "      <td>25</td>\n",
       "      <td>3</td>\n",
       "      <td>...</td>\n",
       "      <td>52.0</td>\n",
       "      <td>25.31</td>\n",
       "      <td>2.91</td>\n",
       "      <td>10.48</td>\n",
       "      <td>15.48</td>\n",
       "      <td>19.06</td>\n",
       "      <td>16.89</td>\n",
       "      <td>3.1</td>\n",
       "      <td>6.77</td>\n",
       "      <td>48.455333</td>\n",
       "    </tr>\n",
       "  </tbody>\n",
       "</table>\n",
       "<p>50 rows × 96 columns</p>\n",
       "</div>"
      ],
      "text/plain": [
       "    Tower   Con-vir-Si  Con.vir-Wi  Con-loss-Si  Con-loss-Wi  Con-ten-Si  \\\n",
       "31      32           4          25            2           25           1   \n",
       "14      15           1          25            2           25           3   \n",
       "37      38           0          25            1           25           3   \n",
       "30      31           3          25            1           25           4   \n",
       "11      12           2          25            4           25           2   \n",
       "34      35           4          25            1           25           1   \n",
       "20      21           0          25            1           25           1   \n",
       "5        6           2          25            1           25           3   \n",
       "44      45           1          25            0           25           3   \n",
       "12      13           1          25            3           25           5   \n",
       "43      44           3          25            1           25           2   \n",
       "8        9           2          25            1           25           0   \n",
       "32      33           0          25            3           25           3   \n",
       "46      47           2          25            1           25           5   \n",
       "18      19           2          25            2           25           3   \n",
       "48      49           2          25            5           25           1   \n",
       "49      50           0          25            1           25           2   \n",
       "6        7           0          25            1           25           5   \n",
       "15      16           1          25            1           25           4   \n",
       "45      46           2          25            2           25           1   \n",
       "26      27           1          25            2           25           1   \n",
       "41      42           1          25            1           25           3   \n",
       "10      11           0          25            1           25           3   \n",
       "25      26           0          25            4           25           2   \n",
       "7        8           1          25            1           25           2   \n",
       "29      30           1          25            3           25           0   \n",
       "38      39           1          25            2           25           5   \n",
       "42      43           0          25            1           25           2   \n",
       "0        1           1          25            2           25           1   \n",
       "35      36           2          25            3           25           1   \n",
       "19      20           2          25            4           25           3   \n",
       "47      48           3          25            1           25           3   \n",
       "2        3           1          25            1           25           2   \n",
       "22      23           0          25            1           25           2   \n",
       "1        2           3          25            3           25           1   \n",
       "28      29           1          25            4           25           5   \n",
       "3        4           0          25            2           25           1   \n",
       "39      40           1          25            5           25           1   \n",
       "21      22           2          25            1           25           1   \n",
       "13      14           2          25            0           25           3   \n",
       "36      37           2          25            1           25           0   \n",
       "27      28           2          25            0           25           3   \n",
       "16      17           1          25            0           25           1   \n",
       "23      24           2          25            1           25           4   \n",
       "4        5           1          25            0           25           0   \n",
       "24      25           2          25            1           25           1   \n",
       "33      34           2          25            1           25           5   \n",
       "9       10           2          25            2           25           1   \n",
       "17      18           3          25            1           25           0   \n",
       "40      41           2          25            0           25           0   \n",
       "\n",
       "    Con-ten-Wi  Con-tor-Si  Con-tor-Wi  Con-Smax  ...  %HIrow  %HItw-con-Wi  \\\n",
       "31          25           3          25         4  ...    64.0         25.31   \n",
       "14          25           0          25         3  ...    60.0         25.31   \n",
       "37          25           1          25         3  ...    64.0         25.31   \n",
       "30          25           1          25         4  ...    40.0         25.31   \n",
       "11          25           1          25         4  ...    40.0         25.31   \n",
       "34          25           1          25         4  ...    60.0         25.31   \n",
       "20          25           0          25         1  ...    52.0         25.31   \n",
       "5           25           1          25         3  ...    60.0         25.31   \n",
       "44          25           3          25         3  ...    60.0         25.31   \n",
       "12          25           2          25         5  ...    52.0         25.31   \n",
       "43          25           1          25         3  ...    60.0         25.31   \n",
       "8           25           2          25         2  ...    60.0         25.31   \n",
       "32          25           1          25         3  ...    52.0         25.31   \n",
       "46          25           1          25         5  ...    64.0         25.31   \n",
       "18          25           0          25         3  ...    40.0         25.31   \n",
       "48          25           1          25         5  ...    40.0         25.31   \n",
       "49          25           2          25         2  ...    64.0         25.31   \n",
       "6           25           1          25         5  ...    60.0         25.31   \n",
       "15          25           0          25         4  ...    60.0         25.31   \n",
       "45          25           0          25         2  ...    60.0         25.31   \n",
       "26          25           1          25         2  ...    40.0         25.31   \n",
       "41          25           1          25         3  ...    64.0         25.31   \n",
       "10          25           3          25         3  ...    52.0         25.31   \n",
       "25          25           0          25         4  ...    52.0         25.31   \n",
       "7           25           1          25         2  ...    52.0         25.31   \n",
       "29          25           3          25         3  ...    60.0         25.31   \n",
       "38          25           1          25         5  ...    55.0         25.31   \n",
       "42          25           2          25         2  ...    60.0         25.31   \n",
       "0           25           0          25         2  ...    60.0         25.31   \n",
       "35          25           5          25         5  ...    70.0         25.31   \n",
       "19          25           1          25         4  ...    40.0         25.31   \n",
       "47          25           0          25         3  ...    40.0         25.31   \n",
       "2           25           3          25         3  ...    40.0         25.31   \n",
       "22          25           2          25         2  ...    60.0         25.31   \n",
       "1           25           0          25         3  ...    40.0         25.31   \n",
       "28          25           2          25         5  ...    60.0         25.31   \n",
       "3           25           1          25         2  ...    60.0         25.31   \n",
       "39          25           0          25         5  ...    68.0         25.31   \n",
       "21          25           0          25         2  ...    68.0         25.31   \n",
       "13          25           2          25         3  ...    60.0         25.31   \n",
       "36          25           2          25         2  ...    60.0         25.31   \n",
       "27          25           2          25         3  ...    60.0         25.31   \n",
       "16          25           2          25         2  ...    60.0         25.31   \n",
       "23          25           2          25         4  ...    55.0         25.31   \n",
       "4           25           2          25         2  ...    55.0         25.31   \n",
       "24          25           1          25         2  ...    52.0         25.31   \n",
       "33          25           1          25         5  ...    40.0         25.31   \n",
       "9           25           0          25         2  ...    64.0         25.31   \n",
       "17          25           1          25         3  ...    40.0         25.31   \n",
       "40          25           3          25         3  ...    52.0         25.31   \n",
       "\n",
       "    %HItw-CA-Wi  %HItw-Ins-Wi  %HItw-SS-Wi  %HItw-Fou-Wi  %HItw-LP-Wi  \\\n",
       "31         2.91         10.48        15.48         19.06        16.89   \n",
       "14         2.91         10.48        15.48         19.06        16.89   \n",
       "37         2.91         10.48        15.48         19.06        16.89   \n",
       "30         2.91         10.48        15.48         19.06        16.89   \n",
       "11         2.91         10.48        15.48         19.06        16.89   \n",
       "34         2.91         10.48        15.48         19.06        16.89   \n",
       "20         2.91         10.48        15.48         19.06        16.89   \n",
       "5          2.91         10.48        15.48         19.06        16.89   \n",
       "44         2.91         10.48        15.48         19.06        16.89   \n",
       "12         2.91         10.48        15.48         19.06        16.89   \n",
       "43         2.91         10.48        15.48         19.06        16.89   \n",
       "8          2.91         10.48        15.48         19.06        16.89   \n",
       "32         2.91         10.48        15.48         19.06        16.89   \n",
       "46         2.91         10.48        15.48         19.06        16.89   \n",
       "18         2.91         10.48        15.48         19.06        16.89   \n",
       "48         2.91         10.48        15.48         19.06        16.89   \n",
       "49         2.91         10.48        15.48         19.06        16.89   \n",
       "6          2.91         10.48        15.48         19.06        16.89   \n",
       "15         2.91         10.48        15.48         19.06        16.89   \n",
       "45         2.91         10.48        15.48         19.06        16.89   \n",
       "26         2.91         10.48        15.48         19.06        16.89   \n",
       "41         2.91         10.48        15.48         19.06        16.89   \n",
       "10         2.91         10.48        15.48         19.06        16.89   \n",
       "25         2.91         10.48        15.48         19.06        16.89   \n",
       "7          2.91         10.48        15.48         19.06        16.89   \n",
       "29         2.91         10.48        15.48         19.06        16.89   \n",
       "38         2.91         10.48        15.48         19.06        16.89   \n",
       "42         2.91         10.48        15.48         19.06        16.89   \n",
       "0          2.91         10.48        15.48         19.06        16.89   \n",
       "35         2.91         10.48        15.48         19.06        16.89   \n",
       "19         2.91         10.48        15.48         19.06        16.89   \n",
       "47         2.91         10.48        15.48         19.06        16.89   \n",
       "2          2.91         10.48        15.48         19.06        16.89   \n",
       "22         2.91         10.48        15.48         19.06        16.89   \n",
       "1          2.91         10.48        15.48         19.06        16.89   \n",
       "28         2.91         10.48        15.48         19.06        16.89   \n",
       "3          2.91         10.48        15.48         19.06        16.89   \n",
       "39         2.91         10.48        15.48         19.06        16.89   \n",
       "21         2.91         10.48        15.48         19.06        16.89   \n",
       "13         2.91         10.48        15.48         19.06        16.89   \n",
       "36         2.91         10.48        15.48         19.06        16.89   \n",
       "27         2.91         10.48        15.48         19.06        16.89   \n",
       "16         2.91         10.48        15.48         19.06        16.89   \n",
       "23         2.91         10.48        15.48         19.06        16.89   \n",
       "4          2.91         10.48        15.48         19.06        16.89   \n",
       "24         2.91         10.48        15.48         19.06        16.89   \n",
       "33         2.91         10.48        15.48         19.06        16.89   \n",
       "9          2.91         10.48        15.48         19.06        16.89   \n",
       "17         2.91         10.48        15.48         19.06        16.89   \n",
       "40         2.91         10.48        15.48         19.06        16.89   \n",
       "\n",
       "    %HItw-TA-Wi  %HItw-ROW-Wi   %HItower  \n",
       "31          3.1          6.77  48.474517  \n",
       "14          3.1          6.77  48.343600  \n",
       "37          3.1          6.77  46.630733  \n",
       "30          3.1          6.77  47.025075  \n",
       "11          3.1          6.77  51.351208  \n",
       "34          3.1          6.77  44.053708  \n",
       "20          3.1          6.77  46.109500  \n",
       "5           3.1          6.77  52.046833  \n",
       "44          3.1          6.77  51.424250  \n",
       "12          3.1          6.77  54.384400  \n",
       "43          3.1          6.77  51.287000  \n",
       "8           3.1          6.77  55.369083  \n",
       "32          3.1          6.77  48.036667  \n",
       "46          3.1          6.77  45.119833  \n",
       "18          3.1          6.77  52.832417  \n",
       "48          3.1          6.77  46.740200  \n",
       "49          3.1          6.77  49.090567  \n",
       "6           3.1          6.77  48.091650  \n",
       "15          3.1          6.77  43.477000  \n",
       "45          3.1          6.77  47.653150  \n",
       "26          3.1          6.77  46.614250  \n",
       "41          3.1          6.77  52.493000  \n",
       "10          3.1          6.77  44.176767  \n",
       "25          3.1          6.77  40.226850  \n",
       "7           3.1          6.77  52.758350  \n",
       "29          3.1          6.77  55.064967  \n",
       "38          3.1          6.77  49.267500  \n",
       "42          3.1          6.77  51.801567  \n",
       "0           3.1          6.77  47.180500  \n",
       "35          3.1          6.77  52.348558  \n",
       "19          3.1          6.77  53.066700  \n",
       "47          3.1          6.77  50.767342  \n",
       "2           3.1          6.77  43.081167  \n",
       "22          3.1          6.77  53.927850  \n",
       "1           3.1          6.77  35.599867  \n",
       "28          3.1          6.77  45.470542  \n",
       "3           3.1          6.77  47.750000  \n",
       "39          3.1          6.77  47.279233  \n",
       "21          3.1          6.77  51.372267  \n",
       "13          3.1          6.77  54.594717  \n",
       "36          3.1          6.77  52.710250  \n",
       "27          3.1          6.77  53.750833  \n",
       "16          3.1          6.77  47.040767  \n",
       "23          3.1          6.77  50.456875  \n",
       "4           3.1          6.77  46.568700  \n",
       "24          3.1          6.77  49.190283  \n",
       "33          3.1          6.77  42.472900  \n",
       "9           3.1          6.77  51.749350  \n",
       "17          3.1          6.77  44.858300  \n",
       "40          3.1          6.77  48.455333  \n",
       "\n",
       "[50 rows x 96 columns]"
      ]
     },
     "execution_count": 13,
     "metadata": {},
     "output_type": "execute_result"
    }
   ],
   "source": [
    "df = pd.read_excel(\"test_3.xlsx\")\n",
    "df.sample(50)"
   ]
  },
  {
   "cell_type": "code",
   "execution_count": 15,
   "id": "ec03ae1c",
   "metadata": {
    "scrolled": false
   },
   "outputs": [
    {
     "name": "stdout",
     "output_type": "stream",
     "text": [
      "<class 'pandas.core.frame.DataFrame'>\n",
      "RangeIndex: 50 entries, 0 to 49\n",
      "Data columns (total 96 columns):\n",
      " #   Column            Non-Null Count  Dtype  \n",
      "---  ------            --------------  -----  \n",
      " 0   Tower             50 non-null     int64  \n",
      " 1   Con-vir-Si        50 non-null     int64  \n",
      " 2   Con.vir-Wi        50 non-null     int64  \n",
      " 3   Con-loss-Si       50 non-null     int64  \n",
      " 4   Con-loss-Wi       50 non-null     int64  \n",
      " 5   Con-ten-Si        50 non-null     int64  \n",
      " 6   Con-ten-Wi        50 non-null     int64  \n",
      " 7   Con-tor-Si        50 non-null     int64  \n",
      " 8   Con-tor-Wi        50 non-null     int64  \n",
      " 9   Con-Smax          50 non-null     int64  \n",
      " 10  %HIc              50 non-null     float64\n",
      " 11  CA-dam-Vir-Si     50 non-null     int64  \n",
      " 12  CA-dam-vir-Wi     50 non-null     int64  \n",
      " 13  CA-spa-vir-Si     50 non-null     int64  \n",
      " 14  CA-spa-vir-Wi     50 non-null     int64  \n",
      " 15  CA-spa-spe-Si     50 non-null     int64  \n",
      " 16  CA-spa-sper-Wi    50 non-null     int64  \n",
      " 17  CA-dea-res-Si     50 non-null     int64  \n",
      " 18  CA-dea-res-Wi     50 non-null     int64  \n",
      " 19  CA-dea-the-Si     50 non-null     int64  \n",
      " 20  CA-dea-the-Wi     50 non-null     int64  \n",
      " 21  CA-joi-res-Si     50 non-null     int64  \n",
      " 22  CA-joi-res-Wi     50 non-null     int64  \n",
      " 23  CA-joi-the-Si     50 non-null     int64  \n",
      " 24  CA-joi-the-Wi     50 non-null     int64  \n",
      " 25  CA-PGc-the-Si     50 non-null     int64  \n",
      " 26  CA-PGc-the-Wi     50 non-null     int64  \n",
      " 27  CA-Smax           50 non-null     int64  \n",
      " 28  %HIca             50 non-null     float64\n",
      " 29  INS-vir-Si        50 non-null     int64  \n",
      " 30  INS-vir-Wi        50 non-null     int64  \n",
      " 31  INS-VIOF-Si       50 non-null     int64  \n",
      " 32  INS-VIOF-Wi       50 non-null     int64  \n",
      " 33  INS-the-Si        50 non-null     int64  \n",
      " 34  INS-the-Wi        50 non-null     int64  \n",
      " 35  INS-the-Smax      50 non-null     int64  \n",
      " 36  %HIIn             50 non-null     float64\n",
      " 37  SS-tow-MVI-Si     50 non-null     int64  \n",
      " 38  SS-tow-MVI-Wi     50 non-null     int64  \n",
      " 39  SS-tow-CPVI-Si    50 non-null     int64  \n",
      " 40  SS-tow-CPVI-Wi    50 non-null     int64  \n",
      " 41  SS-tow-SLVI-Si    50 non-null     int64  \n",
      " 42  SS-tow-SLVI-Wi    50 non-null     int64  \n",
      " 43  SS-A&G-vir-Si     50 non-null     int64  \n",
      " 44  SS-A&G-vir-Wi     50 non-null     int64  \n",
      " 45  SS-A&G-ten-Si     50 non-null     int64  \n",
      " 46  SS-A&G-ten-Wi     50 non-null     int64  \n",
      " 47  SS-Smax           50 non-null     int64  \n",
      " 48  %HIss             50 non-null     float64\n",
      " 49  Fou-gri-Si        50 non-null     int64  \n",
      " 50  Fou-gri-Wi        50 non-null     int64  \n",
      " 51  Fou-CVI-Si        50 non-null     int64  \n",
      " 52  Fou-CVI-Wi        50 non-null     int64  \n",
      " 53  Fou-NDT-Si        50 non-null     int64  \n",
      " 54  Fou-NDT-Wi        50 non-null     int64  \n",
      " 55  Fou-SVI-Si        50 non-null     int64  \n",
      " 56  Fou-SVI-Wi        50 non-null     int64  \n",
      " 57  Fou-Smax          50 non-null     int64  \n",
      " 58  %HIfou            50 non-null     float64\n",
      " 59  LP-OH/OP-vir-Si   50 non-null     int64  \n",
      " 60  LP-OH/OP-vir-Wi   50 non-null     int64  \n",
      " 61  LP-OH/OP-los-Si   50 non-null     int64  \n",
      " 62  LP-OH/OP-los-Wi   50 non-null     int64  \n",
      " 63  LP-OH/OP-ten-Si   50 non-null     int64  \n",
      " 64  LP-OH/OP-ten-Wi   50 non-null     int64  \n",
      " 65  LP-OH/OP-VIOF-Si  50 non-null     int64  \n",
      " 66  LP-OH/OP-VIOF-Wi  50 non-null     int64  \n",
      " 67  LP-mar-vir-Si     50 non-null     int64  \n",
      " 68  LP-mar-vir-Wi     50 non-null     int64  \n",
      " 69  LP-grou-ER-Si     50 non-null     int64  \n",
      " 70  LP-grou-ER-Wi     50 non-null     int64  \n",
      " 71  LP-grou-vir-Si    50 non-null     int64  \n",
      " 72  LP-grou-vir-Wi    50 non-null     int64  \n",
      " 73  LP-Smax           50 non-null     int64  \n",
      " 74  %HIlp             50 non-null     float64\n",
      " 75  TA-Dang-vir-Si    50 non-null     int64  \n",
      " 76  TA-Dang-vir-Wi    50 non-null     int64  \n",
      " 77  TA-PP-vir-Si      50 non-null     int64  \n",
      " 78  TA-PP-vir-Wi      50 non-null     int64  \n",
      " 79  TA-Smax           50 non-null     int64  \n",
      " 80  %HIta             50 non-null     float64\n",
      " 81  ROW-vir-Si        50 non-null     int64  \n",
      " 82  ROW-vir-Wi        50 non-null     int64  \n",
      " 83  ROW-OWD-Si        50 non-null     int64  \n",
      " 84  ROW-OWD-Wi        50 non-null     int64  \n",
      " 85  ROW-Smax          50 non-null     int64  \n",
      " 86  %HIrow            50 non-null     float64\n",
      " 87  %HItw-con-Wi      50 non-null     float64\n",
      " 88  %HItw-CA-Wi       50 non-null     float64\n",
      " 89  %HItw-Ins-Wi      50 non-null     float64\n",
      " 90  %HItw-SS-Wi       50 non-null     float64\n",
      " 91  %HItw-Fou-Wi      50 non-null     float64\n",
      " 92  %HItw-LP-Wi       50 non-null     float64\n",
      " 93  %HItw-TA-Wi       50 non-null     float64\n",
      " 94  %HItw-ROW-Wi      50 non-null     float64\n",
      " 95  %HItower          50 non-null     float64\n",
      "dtypes: float64(17), int64(79)\n",
      "memory usage: 37.6 KB\n"
     ]
    }
   ],
   "source": [
    "df.info()"
   ]
  },
  {
   "cell_type": "code",
   "execution_count": 4,
   "id": "81f22618",
   "metadata": {},
   "outputs": [],
   "source": [
    "df.dropna(inplace=True)"
   ]
  },
  {
   "cell_type": "code",
   "execution_count": 8,
   "id": "73087fc3",
   "metadata": {},
   "outputs": [
    {
     "data": {
      "text/plain": [
       "<seaborn.axisgrid.PairGrid at 0x1b020985d00>"
      ]
     },
     "execution_count": 8,
     "metadata": {},
     "output_type": "execute_result"
    },
    {
     "data": {
      "image/png": "[encoded data removed]",
      "text/plain": [
       "<Figure size 500x500 with 6 Axes>"
      ]
     },
     "metadata": {
      "image/png": {
       "height": 496,
       "width": 495
      }
     },
     "output_type": "display_data"
    }
   ],
   "source": [
    "sns.pairplot(df[['Tower ', '%HItower']])"
   ]
  },
  {
   "cell_type": "code",
   "execution_count": 14,
   "id": "2d933832",
   "metadata": {},
   "outputs": [
    {
     "data": {
      "text/html": [
       "<div>\n",
       "<style scoped>\n",
       "    .dataframe tbody tr th:only-of-type {\n",
       "        vertical-align: middle;\n",
       "    }\n",
       "\n",
       "    .dataframe tbody tr th {\n",
       "        vertical-align: top;\n",
       "    }\n",
       "\n",
       "    .dataframe thead th {\n",
       "        text-align: right;\n",
       "    }\n",
       "</style>\n",
       "<table border=\"1\" class=\"dataframe\">\n",
       "  <thead>\n",
       "    <tr style=\"text-align: right;\">\n",
       "      <th></th>\n",
       "      <th>Tower</th>\n",
       "      <th>%HItower</th>\n",
       "    </tr>\n",
       "  </thead>\n",
       "  <tbody>\n",
       "    <tr>\n",
       "      <th>Tower</th>\n",
       "      <td>1.000000</td>\n",
       "      <td>0.087729</td>\n",
       "    </tr>\n",
       "    <tr>\n",
       "      <th>%HItower</th>\n",
       "      <td>0.087729</td>\n",
       "      <td>1.000000</td>\n",
       "    </tr>\n",
       "  </tbody>\n",
       "</table>\n",
       "</div>"
      ],
      "text/plain": [
       "            Tower   %HItower\n",
       "Tower     1.000000  0.087729\n",
       "%HItower  0.087729  1.000000"
      ]
     },
     "execution_count": 14,
     "metadata": {},
     "output_type": "execute_result"
    }
   ],
   "source": [
    "df[['Tower ', '%HItower']].corr()"
   ]
  },
  {
   "cell_type": "code",
   "execution_count": 16,
   "id": "b0e45436",
   "metadata": {},
   "outputs": [],
   "source": [
    "#scikit-learn\n",
    "import sklearn\n",
    "from sklearn.model_selection import train_test_split\n",
    "from sklearn.preprocessing import PolynomialFeatures\n",
    "from sklearn.linear_model import LinearRegression"
   ]
  },
  {
   "cell_type": "code",
   "execution_count": 17,
   "id": "cef0c8c8",
   "metadata": {},
   "outputs": [],
   "source": [
    "# x_col=['horsepower']\n",
    "x_col=['Tower ']\n",
    "y_col='%HItower'"
   ]
  },
  {
   "cell_type": "code",
   "execution_count": 18,
   "id": "11eb4983",
   "metadata": {},
   "outputs": [],
   "source": [
    "X=df[x_col]\n",
    "y=df[y_col]"
   ]
  },
  {
   "cell_type": "code",
   "execution_count": 19,
   "id": "9103f043",
   "metadata": {},
   "outputs": [],
   "source": [
    "test_size=.3\n",
    "X_train, X_test, y_train, y_test = train_test_split(X, y, \n",
    "                                                    test_size=test_size, \n",
    "                                                    random_state=1)"
   ]
  },
  {
   "cell_type": "code",
   "execution_count": 20,
   "id": "822a541e",
   "metadata": {},
   "outputs": [
    {
     "data": {
      "text/plain": [
       "LinearRegression()"
      ]
     },
     "execution_count": 20,
     "metadata": {},
     "output_type": "execute_result"
    }
   ],
   "source": [
    "#multiple linear regression\n",
    "lm = LinearRegression()\n",
    "lm"
   ]
  },
  {
   "cell_type": "code",
   "execution_count": 21,
   "id": "c4623daa",
   "metadata": {},
   "outputs": [
    {
     "data": {
      "text/plain": [
       "LinearRegression()"
      ]
     },
     "execution_count": 21,
     "metadata": {},
     "output_type": "execute_result"
    }
   ],
   "source": [
    "lm.fit(X_train, y_train)"
   ]
  },
  {
   "cell_type": "code",
   "execution_count": 22,
   "id": "dc2b6f22",
   "metadata": {},
   "outputs": [
    {
     "data": {
      "text/plain": [
       "(48.013017298335015, array([0.02047094]))"
      ]
     },
     "execution_count": 22,
     "metadata": {},
     "output_type": "execute_result"
    }
   ],
   "source": [
    "lm.intercept_, lm.coef_"
   ]
  },
  {
   "cell_type": "code",
   "execution_count": 23,
   "id": "a06b4bb2",
   "metadata": {},
   "outputs": [
    {
     "data": {
      "text/plain": [
       "0.004646588671242791"
      ]
     },
     "execution_count": 23,
     "metadata": {},
     "output_type": "execute_result"
    }
   ],
   "source": [
    "lm.score(X_train, y_train) # R-squared"
   ]
  },
  {
   "cell_type": "code",
   "execution_count": 24,
   "id": "98293adc",
   "metadata": {},
   "outputs": [
    {
     "data": {
      "text/plain": [
       "-0.06665971331326359"
      ]
     },
     "execution_count": 24,
     "metadata": {},
     "output_type": "execute_result"
    }
   ],
   "source": [
    "lm.score(X_test, y_test) # R-squared"
   ]
  },
  {
   "cell_type": "code",
   "execution_count": 25,
   "id": "4fba8328",
   "metadata": {},
   "outputs": [
    {
     "data": {
      "text/plain": [
       "LinearRegression()"
      ]
     },
     "execution_count": 25,
     "metadata": {},
     "output_type": "execute_result"
    }
   ],
   "source": [
    "#polynomial regression\n",
    "poly = PolynomialFeatures(degree=2, include_bias=True)\n",
    "X_train_poly = poly.fit_transform(X_train)\n",
    "X_test_poly = poly.fit_transform(X_test)\n",
    "\n",
    "pm = LinearRegression()\n",
    "pm.fit(X_train_poly, y_train)"
   ]
  },
  {
   "cell_type": "code",
   "execution_count": 26,
   "id": "11724517",
   "metadata": {},
   "outputs": [
    {
     "data": {
      "text/plain": [
       "{'degree': 2, 'include_bias': True, 'interaction_only': False, 'order': 'C'}"
      ]
     },
     "execution_count": 26,
     "metadata": {},
     "output_type": "execute_result"
    }
   ],
   "source": [
    "poly.get_params()"
   ]
  },
  {
   "cell_type": "code",
   "execution_count": 27,
   "id": "bac633c0",
   "metadata": {},
   "outputs": [
    {
     "data": {
      "text/html": [
       "<div>\n",
       "<style scoped>\n",
       "    .dataframe tbody tr th:only-of-type {\n",
       "        vertical-align: middle;\n",
       "    }\n",
       "\n",
       "    .dataframe tbody tr th {\n",
       "        vertical-align: top;\n",
       "    }\n",
       "\n",
       "    .dataframe thead th {\n",
       "        text-align: right;\n",
       "    }\n",
       "</style>\n",
       "<table border=\"1\" class=\"dataframe\">\n",
       "  <thead>\n",
       "    <tr style=\"text-align: right;\">\n",
       "      <th></th>\n",
       "      <th>Tower</th>\n",
       "    </tr>\n",
       "  </thead>\n",
       "  <tbody>\n",
       "    <tr>\n",
       "      <th>42</th>\n",
       "      <td>43</td>\n",
       "    </tr>\n",
       "    <tr>\n",
       "      <th>49</th>\n",
       "      <td>50</td>\n",
       "    </tr>\n",
       "    <tr>\n",
       "      <th>26</th>\n",
       "      <td>27</td>\n",
       "    </tr>\n",
       "  </tbody>\n",
       "</table>\n",
       "</div>"
      ],
      "text/plain": [
       "    Tower \n",
       "42      43\n",
       "49      50\n",
       "26      27"
      ]
     },
     "execution_count": 27,
     "metadata": {},
     "output_type": "execute_result"
    }
   ],
   "source": [
    "X_train[:3]"
   ]
  },
  {
   "cell_type": "code",
   "execution_count": 28,
   "id": "3f9a8298",
   "metadata": {},
   "outputs": [
    {
     "data": {
      "text/plain": [
       "array([[1.000e+00, 4.300e+01, 1.849e+03],\n",
       "       [1.000e+00, 5.000e+01, 2.500e+03],\n",
       "       [1.000e+00, 2.700e+01, 7.290e+02]])"
      ]
     },
     "execution_count": 28,
     "metadata": {},
     "output_type": "execute_result"
    }
   ],
   "source": [
    "X_train_poly[:3]"
   ]
  },
  {
   "cell_type": "code",
   "execution_count": 29,
   "id": "67b923b9",
   "metadata": {},
   "outputs": [
    {
     "name": "stderr",
     "output_type": "stream",
     "text": [
      "C:\\Users\\bedm2\\anaconda3\\lib\\site-packages\\sklearn\\utils\\deprecation.py:87: FutureWarning: Function get_feature_names is deprecated; get_feature_names is deprecated in 1.0 and will be removed in 1.2. Please use get_feature_names_out instead.\n",
      "  warnings.warn(msg, category=FutureWarning)\n"
     ]
    },
    {
     "data": {
      "text/plain": [
       "['1', 'x0', 'x0^2']"
      ]
     },
     "execution_count": 29,
     "metadata": {},
     "output_type": "execute_result"
    }
   ],
   "source": [
    "poly.get_feature_names()"
   ]
  },
  {
   "cell_type": "code",
   "execution_count": 30,
   "id": "365d19b8",
   "metadata": {},
   "outputs": [
    {
     "data": {
      "text/plain": [
       "array([[1.000e+00, 4.300e+01, 1.849e+03]])"
      ]
     },
     "execution_count": 30,
     "metadata": {},
     "output_type": "execute_result"
    }
   ],
   "source": [
    "X_train_poly[:1]"
   ]
  },
  {
   "cell_type": "code",
   "execution_count": 31,
   "id": "94aa4752",
   "metadata": {},
   "outputs": [
    {
     "data": {
      "text/plain": [
       "(1, 88, 2500, 7744, 220000, 6250000)"
      ]
     },
     "execution_count": 31,
     "metadata": {},
     "output_type": "execute_result"
    }
   ],
   "source": [
    "h=88\n",
    "w=2500\n",
    "1, h**1, w**1, h**2, h*w, w**2"
   ]
  },
  {
   "cell_type": "code",
   "execution_count": 32,
   "id": "0a33f08b",
   "metadata": {},
   "outputs": [
    {
     "data": {
      "text/plain": [
       "(48.500504827813074, array([ 0.        , -0.03549994,  0.00109013]))"
      ]
     },
     "execution_count": 32,
     "metadata": {},
     "output_type": "execute_result"
    }
   ],
   "source": [
    "pm.intercept_, pm.coef_"
   ]
  },
  {
   "cell_type": "code",
   "execution_count": 33,
   "id": "789bb28f",
   "metadata": {},
   "outputs": [
    {
     "data": {
      "text/plain": [
       "0.006805424536909244"
      ]
     },
     "execution_count": 33,
     "metadata": {},
     "output_type": "execute_result"
    }
   ],
   "source": [
    "pm.score(X_train_poly, y_train) # R-squared"
   ]
  },
  {
   "cell_type": "code",
   "execution_count": 34,
   "id": "b41014a8",
   "metadata": {},
   "outputs": [
    {
     "data": {
      "text/plain": [
       "-0.1716611860945214"
      ]
     },
     "execution_count": 34,
     "metadata": {},
     "output_type": "execute_result"
    }
   ],
   "source": [
    "pm.score(X_test_poly, y_test) # R-squared"
   ]
  },
  {
   "cell_type": "code",
   "execution_count": 89,
   "id": "2b6981be",
   "metadata": {},
   "outputs": [
    {
     "data": {
      "text/html": [
       "<div>\n",
       "<style scoped>\n",
       "    .dataframe tbody tr th:only-of-type {\n",
       "        vertical-align: middle;\n",
       "    }\n",
       "\n",
       "    .dataframe tbody tr th {\n",
       "        vertical-align: top;\n",
       "    }\n",
       "\n",
       "    .dataframe thead th {\n",
       "        text-align: right;\n",
       "    }\n",
       "</style>\n",
       "<table border=\"1\" class=\"dataframe\">\n",
       "  <thead>\n",
       "    <tr style=\"text-align: right;\">\n",
       "      <th></th>\n",
       "      <th>Tower</th>\n",
       "    </tr>\n",
       "  </thead>\n",
       "  <tbody>\n",
       "    <tr>\n",
       "      <th>27</th>\n",
       "      <td>28</td>\n",
       "    </tr>\n",
       "    <tr>\n",
       "      <th>35</th>\n",
       "      <td>36</td>\n",
       "    </tr>\n",
       "    <tr>\n",
       "      <th>40</th>\n",
       "      <td>41</td>\n",
       "    </tr>\n",
       "  </tbody>\n",
       "</table>\n",
       "</div>"
      ],
      "text/plain": [
       "    Tower \n",
       "27      28\n",
       "35      36\n",
       "40      41"
      ]
     },
     "execution_count": 89,
     "metadata": {},
     "output_type": "execute_result"
    }
   ],
   "source": [
    "X_test[:3]"
   ]
  },
  {
   "cell_type": "code",
   "execution_count": 90,
   "id": "1a3117a6",
   "metadata": {},
   "outputs": [
    {
     "data": {
      "text/plain": [
       "array([[1.000e+00, 2.800e+01, 7.840e+02],\n",
       "       [1.000e+00, 3.600e+01, 1.296e+03],\n",
       "       [1.000e+00, 4.100e+01, 1.681e+03]])"
      ]
     },
     "execution_count": 90,
     "metadata": {},
     "output_type": "execute_result"
    }
   ],
   "source": [
    "X_test_poly[:3]"
   ]
  },
  {
   "cell_type": "code",
   "execution_count": 72,
   "id": "33ceb67f",
   "metadata": {},
   "outputs": [
    {
     "data": {
      "text/plain": [
       "48.36117005635802"
      ]
     },
     "execution_count": 72,
     "metadata": {},
     "output_type": "execute_result"
    }
   ],
   "source": [
    "pm.intercept_ + sum((pm.coef_ * X_test_poly[0]))"
   ]
  },
  {
   "cell_type": "code",
   "execution_count": 85,
   "id": "7d4cbc40",
   "metadata": {},
   "outputs": [
    {
     "data": {
      "text/plain": [
       "array([48.5862036 , 48.74997111, 48.85232581, 48.81138393, 48.07443012,\n",
       "       48.09490106, 49.01609332, 48.62714548, 48.97515144, 48.66808735,\n",
       "       48.68855829, 48.83185487, 48.46337796, 48.77044205, 48.42243608])"
      ]
     },
     "execution_count": 85,
     "metadata": {},
     "output_type": "execute_result"
    }
   ],
   "source": [
    "lm.predict(X_test[:15])"
   ]
  },
  {
   "cell_type": "code",
   "execution_count": 84,
   "id": "19ce4ec6",
   "metadata": {},
   "outputs": [
    {
     "data": {
      "text/plain": [
       "array([48.36117006, 48.63531811, 48.87751922, 48.77409798, 48.40381621,\n",
       "       48.3759472 , 49.37841471, 48.41662549, 49.24010925, 48.48080197,\n",
       "       48.51616061, 48.82471847, 48.2471301 , 48.6793978 , 48.22655889])"
      ]
     },
     "execution_count": 84,
     "metadata": {},
     "output_type": "execute_result"
    }
   ],
   "source": [
    "pm.predict(X_test_poly[:15])"
   ]
  },
  {
   "cell_type": "code",
   "execution_count": 87,
   "id": "a04f1bdf",
   "metadata": {},
   "outputs": [
    {
     "data": {
      "text/plain": [
       "27    53.750833\n",
       "35    52.348558\n",
       "40    48.455333\n",
       "38    49.267500\n",
       "2     43.081167\n",
       "3     47.750000\n",
       "48    46.740200\n",
       "29    55.064967\n",
       "46    45.119833\n",
       "31    48.474517\n",
       "32    48.036667\n",
       "39    47.279233\n",
       "21    51.372267\n",
       "36    52.710250\n",
       "19    53.066700\n",
       "Name: %HItower, dtype: float64"
      ]
     },
     "execution_count": 87,
     "metadata": {},
     "output_type": "execute_result"
    }
   ],
   "source": [
    "y_test[:15]"
   ]
  },
  {
   "cell_type": "code",
   "execution_count": 41,
   "id": "a1fcaca9",
   "metadata": {},
   "outputs": [
    {
     "data": {
      "text/html": [
       "<div>\n",
       "<style scoped>\n",
       "    .dataframe tbody tr th:only-of-type {\n",
       "        vertical-align: middle;\n",
       "    }\n",
       "\n",
       "    .dataframe tbody tr th {\n",
       "        vertical-align: top;\n",
       "    }\n",
       "\n",
       "    .dataframe thead th {\n",
       "        text-align: right;\n",
       "    }\n",
       "</style>\n",
       "<table border=\"1\" class=\"dataframe\">\n",
       "  <thead>\n",
       "    <tr style=\"text-align: right;\">\n",
       "      <th></th>\n",
       "      <th>Tower</th>\n",
       "    </tr>\n",
       "  </thead>\n",
       "  <tbody>\n",
       "    <tr>\n",
       "      <th>27</th>\n",
       "      <td>28</td>\n",
       "    </tr>\n",
       "  </tbody>\n",
       "</table>\n",
       "</div>"
      ],
      "text/plain": [
       "    Tower \n",
       "27      28"
      ]
     },
     "execution_count": 41,
     "metadata": {},
     "output_type": "execute_result"
    }
   ],
   "source": [
    "X_test[:1]"
   ]
  },
  {
   "cell_type": "code",
   "execution_count": 43,
   "id": "a219419b",
   "metadata": {},
   "outputs": [
    {
     "data": {
      "text/plain": [
       "array([50.3913896])"
      ]
     },
     "execution_count": 43,
     "metadata": {},
     "output_type": "execute_result"
    }
   ],
   "source": [
    "pm.predict(poly.fit_transform([\n",
    "    [61]\n",
    "]))"
   ]
  },
  {
   "cell_type": "code",
   "execution_count": 45,
   "id": "24c78a54",
   "metadata": {},
   "outputs": [
    {
     "data": {
      "text/plain": [
       "array([50.29498358, 50.90612368, 49.84565741])"
      ]
     },
     "execution_count": 45,
     "metadata": {},
     "output_type": "execute_result"
    }
   ],
   "source": [
    "pm.predict(poly.fit_transform([\n",
    "    [60],\n",
    "    [66],\n",
    "    [55]\n",
    "]))"
   ]
  },
  {
   "cell_type": "code",
   "execution_count": 81,
   "id": "b5a12737",
   "metadata": {},
   "outputs": [
    {
     "data": {
      "text/plain": [
       "array([48.36117006, 48.63531811, 48.87751922, 48.77409798, 48.40381621,\n",
       "       48.3759472 , 49.37841471, 48.41662549, 49.24010925, 48.48080197,\n",
       "       48.51616061, 48.82471847, 48.2471301 , 48.6793978 , 48.22655889])"
      ]
     },
     "execution_count": 81,
     "metadata": {},
     "output_type": "execute_result"
    }
   ],
   "source": [
    "pm.predict(X_test_poly[:50])"
   ]
  },
  {
   "cell_type": "code",
   "execution_count": 47,
   "id": "8b4e9bad",
   "metadata": {},
   "outputs": [
    {
     "name": "stdout",
     "output_type": "stream",
     "text": [
      "[Pipeline]  (step 1 of 2) Processing polynomialfeatures, total=   0.0s\n",
      "[Pipeline] .. (step 2 of 2) Processing linearregression, total=   0.0s\n"
     ]
    },
    {
     "data": {
      "text/plain": [
       "Pipeline(steps=[('polynomialfeatures', PolynomialFeatures()),\n",
       "                ('linearregression', LinearRegression())],\n",
       "         verbose=True)"
      ]
     },
     "execution_count": 47,
     "metadata": {},
     "output_type": "execute_result"
    }
   ],
   "source": [
    "#pipeline(general polynomial regression model)\n",
    "from sklearn.pipeline import make_pipeline\n",
    "degree=2\n",
    "pm2=make_pipeline(PolynomialFeatures(degree), LinearRegression(), verbose=True)\n",
    "pm2.fit(X_train, y_train)"
   ]
  },
  {
   "cell_type": "code",
   "execution_count": 48,
   "id": "673b3b2e",
   "metadata": {},
   "outputs": [
    {
     "data": {
      "text/plain": [
       "{'memory': None,\n",
       " 'steps': [('polynomialfeatures', PolynomialFeatures()),\n",
       "  ('linearregression', LinearRegression())],\n",
       " 'verbose': True,\n",
       " 'polynomialfeatures': PolynomialFeatures(),\n",
       " 'linearregression': LinearRegression(),\n",
       " 'polynomialfeatures__degree': 2,\n",
       " 'polynomialfeatures__include_bias': True,\n",
       " 'polynomialfeatures__interaction_only': False,\n",
       " 'polynomialfeatures__order': 'C',\n",
       " 'linearregression__copy_X': True,\n",
       " 'linearregression__fit_intercept': True,\n",
       " 'linearregression__n_jobs': None,\n",
       " 'linearregression__normalize': 'deprecated',\n",
       " 'linearregression__positive': False}"
      ]
     },
     "execution_count": 48,
     "metadata": {},
     "output_type": "execute_result"
    }
   ],
   "source": [
    "pm2.get_params()"
   ]
  },
  {
   "cell_type": "code",
   "execution_count": 49,
   "id": "c06f3a26",
   "metadata": {},
   "outputs": [
    {
     "data": {
      "text/plain": [
       "0.006805424536909244"
      ]
     },
     "execution_count": 49,
     "metadata": {},
     "output_type": "execute_result"
    }
   ],
   "source": [
    "pm.score(X_train_poly, y_train)"
   ]
  },
  {
   "cell_type": "code",
   "execution_count": 50,
   "id": "aaaab03b",
   "metadata": {},
   "outputs": [
    {
     "data": {
      "text/plain": [
       "0.006805424536909244"
      ]
     },
     "execution_count": 50,
     "metadata": {},
     "output_type": "execute_result"
    }
   ],
   "source": [
    "pm2.score(X_train, y_train)"
   ]
  },
  {
   "cell_type": "code",
   "execution_count": 51,
   "id": "c3a91d0f",
   "metadata": {},
   "outputs": [
    {
     "data": {
      "text/plain": [
       "-0.1716611860945214"
      ]
     },
     "execution_count": 51,
     "metadata": {},
     "output_type": "execute_result"
    }
   ],
   "source": [
    "pm2.score(X_test, y_test)"
   ]
  },
  {
   "cell_type": "code",
   "execution_count": 52,
   "id": "dc801391",
   "metadata": {},
   "outputs": [
    {
     "data": {
      "text/html": [
       "<div>\n",
       "<style scoped>\n",
       "    .dataframe tbody tr th:only-of-type {\n",
       "        vertical-align: middle;\n",
       "    }\n",
       "\n",
       "    .dataframe tbody tr th {\n",
       "        vertical-align: top;\n",
       "    }\n",
       "\n",
       "    .dataframe thead th {\n",
       "        text-align: right;\n",
       "    }\n",
       "</style>\n",
       "<table border=\"1\" class=\"dataframe\">\n",
       "  <thead>\n",
       "    <tr style=\"text-align: right;\">\n",
       "      <th></th>\n",
       "      <th>Tower</th>\n",
       "    </tr>\n",
       "  </thead>\n",
       "  <tbody>\n",
       "    <tr>\n",
       "      <th>27</th>\n",
       "      <td>28</td>\n",
       "    </tr>\n",
       "    <tr>\n",
       "      <th>35</th>\n",
       "      <td>36</td>\n",
       "    </tr>\n",
       "    <tr>\n",
       "      <th>40</th>\n",
       "      <td>41</td>\n",
       "    </tr>\n",
       "  </tbody>\n",
       "</table>\n",
       "</div>"
      ],
      "text/plain": [
       "    Tower \n",
       "27      28\n",
       "35      36\n",
       "40      41"
      ]
     },
     "execution_count": 52,
     "metadata": {},
     "output_type": "execute_result"
    }
   ],
   "source": [
    "X_test[:3]"
   ]
  },
  {
   "cell_type": "code",
   "execution_count": 53,
   "id": "548ce354",
   "metadata": {},
   "outputs": [
    {
     "data": {
      "text/plain": [
       "array([48.36117006, 48.63531811, 48.87751922])"
      ]
     },
     "execution_count": 53,
     "metadata": {},
     "output_type": "execute_result"
    }
   ],
   "source": [
    "pm2.predict(X_test[:3])"
   ]
  },
  {
   "cell_type": "code",
   "execution_count": 56,
   "id": "a937ae7e",
   "metadata": {},
   "outputs": [
    {
     "name": "stderr",
     "output_type": "stream",
     "text": [
      "C:\\Users\\bedm2\\anaconda3\\lib\\site-packages\\sklearn\\base.py:450: UserWarning: X does not have valid feature names, but PolynomialFeatures was fitted with feature names\n",
      "  warnings.warn(\n"
     ]
    },
    {
     "data": {
      "text/plain": [
       "array([50.30930549])"
      ]
     },
     "execution_count": 56,
     "metadata": {},
     "output_type": "execute_result"
    }
   ],
   "source": [
    "pm2.predict([\n",
    "    [60.15]\n",
    "])"
   ]
  },
  {
   "cell_type": "code",
   "execution_count": 55,
   "id": "30f3ff08",
   "metadata": {},
   "outputs": [
    {
     "name": "stderr",
     "output_type": "stream",
     "text": [
      "C:\\Users\\bedm2\\anaconda3\\lib\\site-packages\\sklearn\\base.py:450: UserWarning: X does not have valid feature names, but PolynomialFeatures was fitted with feature names\n",
      "  warnings.warn(\n"
     ]
    },
    {
     "data": {
      "text/plain": [
       "array([50.29498358, 51.97000166, 49.84565741])"
      ]
     },
     "execution_count": 55,
     "metadata": {},
     "output_type": "execute_result"
    }
   ],
   "source": [
    "pm2.predict([\n",
    "    [60],\n",
    "    [75],\n",
    "    [55]\n",
    "])"
   ]
  },
  {
   "cell_type": "code",
   "execution_count": 57,
   "id": "3bcc8d84",
   "metadata": {},
   "outputs": [
    {
     "data": {
      "text/plain": [
       "array([48.36117006, 48.63531811, 48.87751922])"
      ]
     },
     "execution_count": 57,
     "metadata": {},
     "output_type": "execute_result"
    }
   ],
   "source": [
    "pm.predict(X_test_poly[:3])"
   ]
  },
  {
   "cell_type": "code",
   "execution_count": 58,
   "id": "bb85aea0",
   "metadata": {},
   "outputs": [
    {
     "data": {
      "text/html": [
       "<div>\n",
       "<style scoped>\n",
       "    .dataframe tbody tr th:only-of-type {\n",
       "        vertical-align: middle;\n",
       "    }\n",
       "\n",
       "    .dataframe tbody tr th {\n",
       "        vertical-align: top;\n",
       "    }\n",
       "\n",
       "    .dataframe thead th {\n",
       "        text-align: right;\n",
       "    }\n",
       "</style>\n",
       "<table border=\"1\" class=\"dataframe\">\n",
       "  <thead>\n",
       "    <tr style=\"text-align: right;\">\n",
       "      <th></th>\n",
       "      <th>Tower</th>\n",
       "      <th>%HItower</th>\n",
       "    </tr>\n",
       "  </thead>\n",
       "  <tbody>\n",
       "    <tr>\n",
       "      <th>42</th>\n",
       "      <td>43</td>\n",
       "      <td>51.801567</td>\n",
       "    </tr>\n",
       "    <tr>\n",
       "      <th>49</th>\n",
       "      <td>50</td>\n",
       "      <td>49.090567</td>\n",
       "    </tr>\n",
       "    <tr>\n",
       "      <th>26</th>\n",
       "      <td>27</td>\n",
       "      <td>46.614250</td>\n",
       "    </tr>\n",
       "    <tr>\n",
       "      <th>22</th>\n",
       "      <td>23</td>\n",
       "      <td>53.927850</td>\n",
       "    </tr>\n",
       "    <tr>\n",
       "      <th>13</th>\n",
       "      <td>14</td>\n",
       "      <td>54.594717</td>\n",
       "    </tr>\n",
       "  </tbody>\n",
       "</table>\n",
       "</div>"
      ],
      "text/plain": [
       "    Tower    %HItower\n",
       "42      43  51.801567\n",
       "49      50  49.090567\n",
       "26      27  46.614250\n",
       "22      23  53.927850\n",
       "13      14  54.594717"
      ]
     },
     "execution_count": 58,
     "metadata": {},
     "output_type": "execute_result"
    }
   ],
   "source": [
    "#statsmodels\n",
    "dt=X_train.copy()\n",
    "dt[y_col]=y_train\n",
    "dt[:5]"
   ]
  },
  {
   "cell_type": "code",
   "execution_count": 59,
   "id": "0ce6416e",
   "metadata": {},
   "outputs": [
    {
     "name": "stderr",
     "output_type": "stream",
     "text": [
      "C:\\Users\\bedm2\\anaconda3\\lib\\site-packages\\sklearn\\utils\\deprecation.py:87: FutureWarning: Function get_feature_names is deprecated; get_feature_names is deprecated in 1.0 and will be removed in 1.2. Please use get_feature_names_out instead.\n",
      "  warnings.warn(msg, category=FutureWarning)\n"
     ]
    },
    {
     "data": {
      "text/plain": [
       "['1', 'x0', 'x0^2']"
      ]
     },
     "execution_count": 59,
     "metadata": {},
     "output_type": "execute_result"
    }
   ],
   "source": [
    "poly.get_feature_names()"
   ]
  },
  {
   "cell_type": "code",
   "execution_count": null,
   "id": "033aa392",
   "metadata": {},
   "outputs": [],
   "source": []
  }
 ],
 "metadata": {
  "kernelspec": {
   "display_name": "Python 3 (ipykernel)",
   "language": "python",
   "name": "python3"
  },
  "language_info": {
   "codemirror_mode": {
    "name": "ipython",
    "version": 3
   },
   "file_extension": ".py",
   "mimetype": "text/x-python",
   "name": "python",
   "nbconvert_exporter": "python",
   "pygments_lexer": "ipython3",
   "version": "3.9.15"
  }
 },
 "nbformat": 4,
 "nbformat_minor": 5
}
